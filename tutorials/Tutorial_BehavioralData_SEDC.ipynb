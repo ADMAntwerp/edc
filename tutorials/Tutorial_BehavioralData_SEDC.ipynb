{
 "cells": [
  {
   "cell_type": "markdown",
   "metadata": {},
   "source": [
    "**Import libraries and import data set.**"
   ]
  },
  {
   "cell_type": "code",
   "execution_count": 1,
   "metadata": {},
   "outputs": [],
   "source": [
    "import pandas as pd\n",
    "import numpy as np\n",
    "import edc_agnostic\n",
    "from function_edc import fn_1 \n",
    "import scipy"
   ]
  },
  {
   "cell_type": "code",
   "execution_count": 45,
   "metadata": {},
   "outputs": [],
   "source": [
    "%run sedc_algorithm.py #run sedc_algorithm.py module"
   ]
  },
  {
   "cell_type": "markdown",
   "metadata": {},
   "source": [
    "**For this demonstration, we use the [Movielens 1M data set](https://grouplens.org/datasets/movielens/1m/), which contains movie viewing behavior of users. The target variable is binary (taking value 1 if gender = 'MALE' and 0 if gender = 'FEMALE').**"
   ]
  },
  {
   "cell_type": "code",
   "execution_count": 25,
   "metadata": {},
   "outputs": [],
   "source": [
    "target = pd.read_csv('target_ML1M.csv')\n",
    "data = pd.read_csv('data_ML1M.csv')\n",
    "feature_names = pd.read_csv('feature_names_ML1M.csv')"
   ]
  },
  {
   "cell_type": "markdown",
   "metadata": {},
   "source": [
    "**Split data into a training and test set (80-20%). We use the finetuned MLP hyperparameter configuration as found in the paper of De Cnudde et al. (2018) titled *'An exploratory study towards applying and demystifying deep learning classification on behavioral big data'*. We train the MLP classifier on the training data set.** "
   ]
  },
  {
   "cell_type": "code",
   "execution_count": 26,
   "metadata": {},
   "outputs": [],
   "source": [
    "from sklearn.model_selection import train_test_split\n",
    "x_train, x_test, y_train, y_test = train_test_split(scipy.sparse.csr_matrix(data.iloc[:,1:3707].values), target.iloc[:,1], test_size=0.2, random_state=0)"
   ]
  },
  {
   "cell_type": "code",
   "execution_count": 27,
   "metadata": {},
   "outputs": [
    {
     "data": {
      "text/plain": [
       "MLPClassifier(activation='relu', alpha=0.0001, batch_size=100, beta_1=0.9,\n",
       "              beta_2=0.999, early_stopping=True, epsilon=1e-08,\n",
       "              hidden_layer_sizes=(532, 135, 1009), learning_rate='adaptive',\n",
       "              learning_rate_init=0.30452, max_iter=200, momentum=0.9,\n",
       "              n_iter_no_change=10, nesterovs_momentum=True, power_t=0.5,\n",
       "              random_state=None, shuffle=True, solver='lbfgs', tol=0.0001,\n",
       "              validation_fraction=0.1, verbose=False, warm_start=False)"
      ]
     },
     "execution_count": 27,
     "metadata": {},
     "output_type": "execute_result"
    }
   ],
   "source": [
    "from sklearn.neural_network import MLPClassifier\n",
    "MLP_model = MLPClassifier(activation='relu', learning_rate_init=0.30452, alpha=0.0001, learning_rate='adaptive', early_stopping=True, hidden_layer_sizes=(532,135,1009), solver='lbfgs', batch_size=100)\n",
    "MLP_model.fit(x_train, y_train)"
   ]
  },
  {
   "cell_type": "markdown",
   "metadata": {},
   "source": [
    "**Calculate the Area under the ROC curve (AUC) of the model on the test set.**"
   ]
  },
  {
   "cell_type": "code",
   "execution_count": 36,
   "metadata": {},
   "outputs": [
    {
     "name": "stdout",
     "output_type": "stream",
     "text": [
      "The AUC of the model is 0.821381\n"
     ]
    }
   ],
   "source": [
    "from sklearn.metrics import roc_auc_score\n",
    "\n",
    "Scores = MLP_model.predict_proba(x_test)[:,1] #predict scores using the trained MLP model\n",
    "AUC = roc_auc_score(y_test,Scores) #output AUC of the model \n",
    "print(\"The AUC of the model is %f\" %AUC)"
   ]
  },
  {
   "cell_type": "markdown",
   "metadata": {},
   "source": [
    "**Predict 25% of the test instances as positive (gender = 'MALE') (e.g., because of a limited target budget). Obtain the indices of the test instances that are predicted as 'MALE', i.e. the instances that the model is most sure of that they are 'MALE' users.**"
   ]
  },
  {
   "cell_type": "code",
   "execution_count": 37,
   "metadata": {},
   "outputs": [],
   "source": [
    "probs = MLP_model.predict_proba(x_test)[:,1]\n",
    "threshold_classifier_probs = np.percentile(probs,75) \n",
    "predictions_probs = (probs>=threshold_classifier_probs)\n",
    "indices_probs_pos = np.nonzero(predictions_probs)#indices of the test instances that are positively-predicted"
   ]
  },
  {
   "cell_type": "code",
   "execution_count": 38,
   "metadata": {},
   "outputs": [],
   "source": [
    "classification_model = MLP_model \n",
    "\n",
    "def classifier_fn(X):\n",
    "    c=classification_model.predict_proba(X)\n",
    "    y_predicted_proba=c[:,1]\n",
    "    return y_predicted_proba"
   ]
  },
  {
   "cell_type": "markdown",
   "metadata": {},
   "source": [
    "**Create an SEDC explainer object. By default, the SEDC algorithm stops looking for explanations when a first explanation is found or when a 2-minute time limit is exceeded or when more than 50 iterations are required (see edc_agnostic.py for more details). Only the active (~nonzero) features are perturbed (~set to zero) to evaluate the impact on the model's predicted output. In other words, only the movies that a user has watched can become part of the counterfactual explanation of the model prediction.**"
   ]
  },
  {
   "cell_type": "code",
   "execution_count": 39,
   "metadata": {},
   "outputs": [],
   "source": [
    "explainer_SEDC = SEDC_Explainer(feature_names = np.array(feature_names.iloc[:,1]), \n",
    "                               threshold_classifier = threshold_classifier_probs, \n",
    "                               classifier_fn = classifier_fn)"
   ]
  },
  {
   "cell_type": "markdown",
   "metadata": {},
   "source": [
    "**Show indices of positively-predicted test instances.** "
   ]
  },
  {
   "cell_type": "code",
   "execution_count": 32,
   "metadata": {},
   "outputs": [
    {
     "data": {
      "text/plain": [
       "(array([  21,   24,   25,   30,   32,   37,   57,   60,   61,   65,   70,\n",
       "          74,   75,   84,   86,   88,   94,   95,   97,  101,  102,  106,\n",
       "         116,  120,  122,  123,  127,  133,  139,  140,  141,  142,  144,\n",
       "         148,  152,  153,  164,  166,  173,  174,  175,  180,  181,  189,\n",
       "         190,  192,  199,  200,  206,  211,  214,  220,  222,  223,  230,\n",
       "         254,  255,  257,  264,  269,  271,  273,  282,  284,  285,  287,\n",
       "         290,  292,  295,  298,  301,  305,  307,  309,  312,  315,  316,\n",
       "         317,  319,  320,  330,  336,  339,  340,  341,  343,  349,  350,\n",
       "         352,  353,  358,  361,  366,  372,  375,  384,  394,  395,  396,\n",
       "         397,  401,  409,  415,  417,  421,  436,  454,  458,  466,  471,\n",
       "         472,  475,  478,  482,  485,  487,  489,  498,  501,  503,  510,\n",
       "         513,  523,  524,  529,  532,  533,  549,  550,  563,  564,  565,\n",
       "         572,  575,  576,  579,  587,  590,  608,  609,  615,  617,  623,\n",
       "         627,  640,  641,  643,  645,  648,  649,  650,  654,  657,  659,\n",
       "         665,  669,  677,  682,  685,  694,  698,  701,  703,  706,  709,\n",
       "         710,  716,  719,  722,  723,  724,  735,  738,  739,  740,  748,\n",
       "         749,  750,  751,  753,  756,  757,  759,  761,  762,  769,  771,\n",
       "         773,  777,  779,  781,  783,  784,  793,  806,  810,  820,  825,\n",
       "         828,  830,  838,  842,  844,  845,  855,  856,  860,  866,  869,\n",
       "         873,  876,  878,  880,  885,  890,  892,  894,  895,  904,  922,\n",
       "         930,  936,  938,  941,  944,  945,  949,  950,  952,  953,  955,\n",
       "         956,  957,  964,  965,  971,  980,  983,  984,  987,  993,  995,\n",
       "         996, 1000, 1006, 1011, 1020, 1021, 1022, 1027, 1032, 1038, 1042,\n",
       "        1050, 1063, 1067, 1069, 1071, 1074, 1078, 1080, 1081, 1085, 1088,\n",
       "        1089, 1100, 1104, 1105, 1107, 1115, 1117, 1120, 1122, 1129, 1132,\n",
       "        1134, 1135, 1141, 1142, 1147, 1150, 1156, 1161, 1164, 1167, 1169,\n",
       "        1170, 1174, 1178, 1182, 1186, 1189, 1191, 1193, 1195, 1198, 1199,\n",
       "        1200, 1203, 1204, 1206, 1207], dtype=int64),)"
      ]
     },
     "execution_count": 32,
     "metadata": {},
     "output_type": "execute_result"
    }
   ],
   "source": [
    "indices_probs_pos #all instances that are predicted as 'MALE'"
   ]
  },
  {
   "cell_type": "markdown",
   "metadata": {},
   "source": [
    "**Explain why the user with index = 4 is predicted as a 'MALE' user by the model.**"
   ]
  },
  {
   "cell_type": "code",
   "execution_count": 40,
   "metadata": {},
   "outputs": [
    {
     "name": "stdout",
     "output_type": "stream",
     "text": [
      "Initialization complete\n",
      "\n",
      " Elapsed time 0 \n",
      "\n",
      "\n",
      " Iteration 1 \n",
      "\n",
      "length of new_combinations is 1 features.\n",
      "new combination cannot be expanded\n",
      "\n",
      " Elapsed time 0 \n",
      "\n",
      "\n",
      " size combis to expand 126 \n",
      "\n",
      "iterations are done\n",
      "\n",
      " Elapsed time 0 \n",
      "\n"
     ]
    }
   ],
   "source": [
    "index = 4\n",
    "instance_idx = x_test[index]\n",
    "explanation = explainer_SEDC.explanation(instance_idx)"
   ]
  },
  {
   "cell_type": "code",
   "execution_count": 41,
   "metadata": {},
   "outputs": [
    {
     "name": "stdout",
     "output_type": "stream",
     "text": [
      "Initialization is complete.\n",
      "\n",
      " Elapsed time 0 \n",
      "\n",
      "\n",
      " Iteration 1 \n",
      "\n",
      "Length of new_combinations is 1 features.\n",
      "New combination cannot be expanded\n",
      "\n",
      " Elapsed time 0 \n",
      "\n",
      "\n",
      " Size combis to expand 126 \n",
      "\n",
      "Iterations are done.\n",
      "\n",
      " Elapsed time 0 \n",
      "\n"
     ]
    }
   ],
   "source": [
    "explanation = explainer_SEDC.explanation(instance_idx)"
   ]
  },
  {
   "cell_type": "markdown",
   "metadata": {},
   "source": [
    "**Show explanation(s) that is/are found.**"
   ]
  },
  {
   "cell_type": "code",
   "execution_count": 42,
   "metadata": {},
   "outputs": [
    {
     "data": {
      "text/plain": [
       "[['Austin Powers']]"
      ]
     },
     "execution_count": 42,
     "metadata": {},
     "output_type": "execute_result"
    }
   ],
   "source": [
    "explanation[0]"
   ]
  },
  {
   "cell_type": "code",
   "execution_count": 17,
   "metadata": {},
   "outputs": [
    {
     "name": "stdout",
     "output_type": "stream",
     "text": [
      "IF the user did not watch the movie(s) ['Tin Cup (1996)'], THEN the predicted class would change from 'MALE' to 'FEMALE'.\n"
     ]
    }
   ],
   "source": [
    "print(\"IF the user did not watch the movie(s) \" + str(explanation[0][0]) + \", THEN the predicted class would change from 'MALE' to 'FEMALE'.\")\n"
   ]
  },
  {
   "cell_type": "markdown",
   "metadata": {},
   "source": [
    "**Show more information about the explanation(s): *explanation[0]* shows the explanation set(s), *explanation[1]* shows the number of active features of the instance to explain, *explanation[2]* shows the number of explanations found, *explanation[3]* shows the number of features in the smallest-sized explanation, *explanation[4]* shows the time elapsed in seconds to find the explanation, *explanation[6]* shows the predicted score change when removing the feature(s) in the smallest-sized explanation, *explanation[7]* shows the number of iterations that the algorithm needed.**"
   ]
  },
  {
   "cell_type": "code",
   "execution_count": 18,
   "metadata": {},
   "outputs": [
    {
     "data": {
      "text/plain": [
       "([['Tin Cup (1996)']],\n",
       " 126,\n",
       " 2,\n",
       " 1,\n",
       " 0.062448978424072266,\n",
       " [array([6.94710955e-12])],\n",
       " 1)"
      ]
     },
     "execution_count": 18,
     "metadata": {},
     "output_type": "execute_result"
    }
   ],
   "source": [
    "explanation"
   ]
  },
  {
   "cell_type": "markdown",
   "metadata": {},
   "source": [
    "**Explain why the user with index = 30 is predicted as a 'MALE' user by the model.**"
   ]
  },
  {
   "cell_type": "code",
   "execution_count": 19,
   "metadata": {},
   "outputs": [
    {
     "name": "stdout",
     "output_type": "stream",
     "text": [
      "Initialization is complete.\n",
      "\n",
      " Elapsed time 0 \n",
      "\n",
      "\n",
      " Iteration 1 \n",
      "\n",
      "Length of new_combinations is 1 features.\n",
      "New combinations can be expanded\n",
      "\n",
      " Elapsed time 0 \n",
      "\n",
      "\n",
      " Size combis to expand 382 \n",
      "\n",
      "\n",
      " Iteration 2 \n",
      "\n",
      "Length of new_combinations is 2 features.\n",
      "New combinations can be expanded\n",
      "\n",
      " Elapsed time 0 \n",
      "\n",
      "\n",
      " Size combis to expand 571 \n",
      "\n",
      "\n",
      " Iteration 3 \n",
      "\n",
      "Length of new_combinations is 3 features.\n",
      "New combinations can be expanded\n",
      "\n",
      " Elapsed time 1 \n",
      "\n",
      "\n",
      " Size combis to expand 759 \n",
      "\n",
      "\n",
      " Iteration 4 \n",
      "\n",
      "Length of new_combinations is 4 features.\n",
      "New combinations can be expanded\n",
      "\n",
      " Elapsed time 2 \n",
      "\n",
      "\n",
      " Size combis to expand 946 \n",
      "\n",
      "\n",
      " Iteration 5 \n",
      "\n",
      "Length of new_combinations is 5 features.\n",
      "New combination cannot be expanded\n",
      "\n",
      " Elapsed time 2 \n",
      "\n",
      "\n",
      " Size combis to expand 946 \n",
      "\n",
      "Iterations are done.\n",
      "\n",
      " Elapsed time 2 \n",
      "\n"
     ]
    }
   ],
   "source": [
    "index = 30\n",
    "instance_idx = x_test[index]\n",
    "explanation = explainer_SEDC.explanation(instance_idx)"
   ]
  },
  {
   "cell_type": "markdown",
   "metadata": {},
   "source": [
    "**Show the smallest-sized explanation found by the SEDC explainer for user with index = 30.**"
   ]
  },
  {
   "cell_type": "code",
   "execution_count": 20,
   "metadata": {},
   "outputs": [
    {
     "name": "stdout",
     "output_type": "stream",
     "text": [
      "IF the user did not watch the movie(s) ['Being There (1979)', 'Star Wars', 'Moonraker (1979)', 'Exorcist', 'Apocalypse Now (1979)'], THEN the predicted class would change from 'MALE' to 'FEMALE'.\n"
     ]
    }
   ],
   "source": [
    "print(\"IF the user did not watch the movie(s) \" + str(explanation[0][0]) + \", THEN the predicted class would change from 'MALE' to 'FEMALE'.\")"
   ]
  },
  {
   "cell_type": "markdown",
   "metadata": {},
   "source": [
    "**Show the 10 first explanation(s) found by the SEDC algorithm to explain the user index = 30. We change max_explained to 10.**"
   ]
  },
  {
   "cell_type": "code",
   "execution_count": 21,
   "metadata": {},
   "outputs": [],
   "source": [
    "explainer_SEDC2 = SEDC_Explainer(feature_names = np.array(feature_names.iloc[:,1]), \n",
    "                               threshold_classifier = threshold_classifier_probs, \n",
    "                               classifier_fn = classifier_fn, max_explained=10)"
   ]
  },
  {
   "cell_type": "code",
   "execution_count": 22,
   "metadata": {
    "scrolled": true
   },
   "outputs": [
    {
     "name": "stdout",
     "output_type": "stream",
     "text": [
      "Initialization is complete.\n",
      "\n",
      " Elapsed time 0 \n",
      "\n",
      "\n",
      " Iteration 1 \n",
      "\n",
      "Length of new_combinations is 1 features.\n",
      "New combinations can be expanded\n",
      "\n",
      " Elapsed time 0 \n",
      "\n",
      "\n",
      " Size combis to expand 382 \n",
      "\n",
      "\n",
      " Iteration 2 \n",
      "\n",
      "Length of new_combinations is 2 features.\n",
      "New combinations can be expanded\n",
      "\n",
      " Elapsed time 0 \n",
      "\n",
      "\n",
      " Size combis to expand 571 \n",
      "\n",
      "\n",
      " Iteration 3 \n",
      "\n",
      "Length of new_combinations is 3 features.\n",
      "New combinations can be expanded\n",
      "\n",
      " Elapsed time 1 \n",
      "\n",
      "\n",
      " Size combis to expand 759 \n",
      "\n",
      "\n",
      " Iteration 4 \n",
      "\n",
      "Length of new_combinations is 4 features.\n",
      "New combinations can be expanded\n",
      "\n",
      " Elapsed time 2 \n",
      "\n",
      "\n",
      " Size combis to expand 946 \n",
      "\n",
      "\n",
      " Iteration 5 \n",
      "\n",
      "Length of new_combinations is 5 features.\n",
      "New combination cannot be expanded\n",
      "\n",
      " Elapsed time 2 \n",
      "\n",
      "\n",
      " Size combis to expand 946 \n",
      "\n",
      "Iterations are done.\n",
      "\n",
      " Elapsed time 2 \n",
      "\n"
     ]
    }
   ],
   "source": [
    "index = 30\n",
    "instance_idx = x_test[index]\n",
    "explanation = explainer_SEDC2.explanation(instance_idx)"
   ]
  },
  {
   "cell_type": "markdown",
   "metadata": {},
   "source": [
    "**There are 85 explanations found after 3 iterations. The first 10 are shown. The time elapsed is 1.07 seconds. The number of active features (movies watched) is 192 movies.**"
   ]
  },
  {
   "cell_type": "code",
   "execution_count": 23,
   "metadata": {},
   "outputs": [
    {
     "data": {
      "text/plain": [
       "([['Being There (1979)',\n",
       "   'Star Wars',\n",
       "   'Moonraker (1979)',\n",
       "   'Exorcist',\n",
       "   'Apocalypse Now (1979)'],\n",
       "  ['Being There (1979)',\n",
       "   'Star Wars',\n",
       "   'Moonraker (1979)',\n",
       "   'Exorcist',\n",
       "   'From Russia with Love (1963)'],\n",
       "  ['Being There (1979)',\n",
       "   'Star Wars',\n",
       "   'Moonraker (1979)',\n",
       "   'Exorcist',\n",
       "   'Halloween (1978)'],\n",
       "  ['Being There (1979)',\n",
       "   'Star Wars',\n",
       "   'Moonraker (1979)',\n",
       "   'Exorcist',\n",
       "   'Lethal Weapon 3 (1992)'],\n",
       "  ['Being There (1979)',\n",
       "   'Star Wars',\n",
       "   'Moonraker (1979)',\n",
       "   'Exorcist',\n",
       "   'Clear and Present Danger (1994)'],\n",
       "  ['Being There (1979)',\n",
       "   'Star Wars',\n",
       "   'Moonraker (1979)',\n",
       "   'Exorcist',\n",
       "   'GoodFellas (1990)'],\n",
       "  ['Being There (1979)',\n",
       "   'Star Wars',\n",
       "   'Moonraker (1979)',\n",
       "   'Exorcist',\n",
       "   'Dr. Strangelove or'],\n",
       "  ['Being There (1979)',\n",
       "   'Star Wars',\n",
       "   'Moonraker (1979)',\n",
       "   'Exorcist',\n",
       "   'Sixth Sense'],\n",
       "  ['Being There (1979)',\n",
       "   'Star Wars',\n",
       "   'Moonraker (1979)',\n",
       "   'Exorcist',\n",
       "   'Apollo 13 (1995)'],\n",
       "  ['Being There (1979)',\n",
       "   'Star Wars',\n",
       "   'Moonraker (1979)',\n",
       "   'Exorcist',\n",
       "   'Superman (1978)']],\n",
       " 192,\n",
       " 57,\n",
       " 5,\n",
       " 2.656420946121216,\n",
       " [array([2.21316299e-11]),\n",
       "  array([1.82209803e-11]),\n",
       "  array([1.75941484e-11]),\n",
       "  array([1.39850354e-11]),\n",
       "  array([1.38571377e-11]),\n",
       "  array([1.31168409e-11]),\n",
       "  array([1.28628219e-11]),\n",
       "  array([1.25457422e-11]),\n",
       "  array([1.21502808e-11]),\n",
       "  array([1.20063959e-11])],\n",
       " 5)"
      ]
     },
     "execution_count": 23,
     "metadata": {},
     "output_type": "execute_result"
    }
   ],
   "source": [
    "explanation"
   ]
  }
 ],
 "metadata": {
  "kernelspec": {
   "display_name": "Python 3",
   "language": "python",
   "name": "python3"
  },
  "language_info": {
   "codemirror_mode": {
    "name": "ipython",
    "version": 3
   },
   "file_extension": ".py",
   "mimetype": "text/x-python",
   "name": "python",
   "nbconvert_exporter": "python",
   "pygments_lexer": "ipython3",
   "version": "3.7.3"
  }
 },
 "nbformat": 4,
 "nbformat_minor": 2
}
